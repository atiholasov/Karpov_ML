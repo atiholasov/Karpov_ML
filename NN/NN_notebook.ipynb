{
 "cells": [
  {
   "cell_type": "code",
   "execution_count": 1,
   "id": "d5ee3d96-e268-4e3d-9a0c-1f4ca052ac09",
   "metadata": {},
   "outputs": [
    {
     "name": "stdout",
     "output_type": "stream",
     "text": [
      "PyTorch version: 2.4.0+cu121\n",
      "CUDA available: True\n",
      "GPU: NVIDIA GeForce RTX 4070 Laptop GPU\n"
     ]
    }
   ],
   "source": [
    "import torch\n",
    "print(\"PyTorch version:\", torch.__version__)\n",
    "print(\"CUDA available:\", torch.cuda.is_available())\n",
    "if torch.cuda.is_available():\n",
    "    print(\"GPU:\", torch.cuda.get_device_name(0))\n",
    "else:\n",
    "    print(\"CUDA is not available.\")\n"
   ]
  },
  {
   "cell_type": "markdown",
   "id": "80e2cb70-cfa4-422e-a7f7-7a94e0aae234",
   "metadata": {},
   "source": [
    "# Операции в pytorch"
   ]
  },
  {
   "cell_type": "markdown",
   "id": "91cb8731-5f73-4737-9bc9-c4d98a7ea5c1",
   "metadata": {},
   "source": [
    "### Создание tensors"
   ]
  },
  {
   "cell_type": "code",
   "execution_count": 2,
   "id": "c4329716-3af6-4cfd-9bef-5c84e99a6f0e",
   "metadata": {},
   "outputs": [],
   "source": [
    "import torch"
   ]
  },
  {
   "cell_type": "code",
   "execution_count": null,
   "id": "fc8bf56a-0bf8-4353-ba7e-29e99d40f7ea",
   "metadata": {},
   "outputs": [],
   "source": [
    "some_tensor = torch.tensor(some_data)"
   ]
  },
  {
   "cell_type": "code",
   "execution_count": null,
   "id": "59d1c3d6-f263-4ead-93f7-d2c4e793cc39",
   "metadata": {},
   "outputs": [],
   "source": [
    "some_tensor_from_numpy = torch.from_numpy(some_numpy_array)"
   ]
  },
  {
   "cell_type": "code",
   "execution_count": null,
   "id": "babaddae-5854-406d-b3bd-f0210ec5dfd3",
   "metadata": {},
   "outputs": [],
   "source": [
    "ones_tensor = torch.ones(shape)"
   ]
  },
  {
   "cell_type": "markdown",
   "id": "2bd48481-ffe2-4255-afdd-2faeae9bd15a",
   "metadata": {},
   "source": [
    "Можем создать тензор со случайными или константными значениями:"
   ]
  },
  {
   "cell_type": "code",
   "execution_count": null,
   "id": "9fdc17b2-08fb-4afa-bca4-acded3b93a8d",
   "metadata": {},
   "outputs": [],
   "source": [
    "shape = (2, 3)\n",
    "\n",
    "random_tensor = torch.rand(shape)\n",
    "ones_tensor = torch.ones(shape)\n",
    "zeros_tensor = torch.zeros(shape)\n",
    "empty_tensor = torch.empty(shape)\n",
    "\n",
    "random_tensor, ones_tensor, zeros_tensor, empty_tensor"
   ]
  },
  {
   "cell_type": "code",
   "execution_count": 5,
   "id": "f6726239-b563-4651-9fd4-f0e636a01bc2",
   "metadata": {},
   "outputs": [],
   "source": [
    "shape = (10)  # одна ось (вектор\n",
    "shape = (2, 3)  # две оси (матрица)\n",
    "shape = (3, 2, 3)  # три оси (и больше - тензор)"
   ]
  },
  {
   "cell_type": "code",
   "execution_count": 8,
   "id": "7936682b-90d7-48b9-88ae-5713a8b98436",
   "metadata": {},
   "outputs": [
    {
     "name": "stdout",
     "output_type": "stream",
     "text": [
      "torch.Size([2, 3])\n"
     ]
    }
   ],
   "source": [
    "some_tensor = torch.tensor(([1,2,3],[2,3,4]))\n",
    "print(some_tensor.shape)"
   ]
  },
  {
   "cell_type": "code",
   "execution_count": null,
   "id": "556a1077-d7bb-44f8-8e0d-c494f6d07c0c",
   "metadata": {},
   "outputs": [],
   "source": []
  },
  {
   "cell_type": "code",
   "execution_count": null,
   "id": "efcb8dd3-fb97-4201-ad83-2911000b5689",
   "metadata": {},
   "outputs": [],
   "source": []
  },
  {
   "cell_type": "code",
   "execution_count": null,
   "id": "6999ed1f-e625-4256-b02e-42ac336eea6b",
   "metadata": {},
   "outputs": [],
   "source": []
  },
  {
   "cell_type": "code",
   "execution_count": null,
   "id": "1fe53372-815c-4ce0-ac90-1d61a614eafe",
   "metadata": {},
   "outputs": [],
   "source": []
  }
 ],
 "metadata": {
  "kernelspec": {
   "display_name": "Python(venv_torch_cuda_12-2)",
   "language": "python",
   "name": "venv_torch_cuda_12-2"
  },
  "language_info": {
   "codemirror_mode": {
    "name": "ipython",
    "version": 3
   },
   "file_extension": ".py",
   "mimetype": "text/x-python",
   "name": "python",
   "nbconvert_exporter": "python",
   "pygments_lexer": "ipython3",
   "version": "3.12.3"
  }
 },
 "nbformat": 4,
 "nbformat_minor": 5
}
